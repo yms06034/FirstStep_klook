{
  "nbformat": 4,
  "nbformat_minor": 0,
  "metadata": {
    "colab": {
      "private_outputs": true,
      "provenance": [],
      "collapsed_sections": [
        "CdJnbC856ws6"
      ],
      "authorship_tag": "ABX9TyM81oPKIuvgoRH+IlyVZOow",
      "include_colab_link": true
    },
    "kernelspec": {
      "name": "python3",
      "display_name": "Python 3"
    },
    "language_info": {
      "name": "python"
    }
  },
  "cells": [
    {
      "cell_type": "markdown",
      "metadata": {
        "id": "view-in-github",
        "colab_type": "text"
      },
      "source": [
        "<a href=\"https://colab.research.google.com/github/yms06034/FirstStep_klook/blob/master/MLmodel(BOW-.CountVectorizer).ipynb\" target=\"_parent\"><img src=\"https://colab.research.google.com/assets/colab-badge.svg\" alt=\"Open In Colab\"/></a>"
      ]
    },
    {
      "cell_type": "code",
      "execution_count": null,
      "metadata": {
        "id": "x3zpNP277Gtf"
      },
      "outputs": [],
      "source": [
        "import pandas as pd\n",
        "pd.options.display.max_rows = 30"
      ]
    },
    {
      "cell_type": "code",
      "source": [
        "df = pd.read_csv('klook.csv', names=['img_scr', 'title', 'place', 'tag'] ,header=0)\n",
        "df.head()"
      ],
      "metadata": {
        "id": "V--V_zyF7YVV"
      },
      "execution_count": null,
      "outputs": []
    },
    {
      "cell_type": "code",
      "source": [
        "df.isnull().sum()"
      ],
      "metadata": {
        "id": "XxT0ANgl7YX9"
      },
      "execution_count": null,
      "outputs": []
    },
    {
      "cell_type": "code",
      "source": [
        "df = df.dropna(axis=0)"
      ],
      "metadata": {
        "id": "qVsqgDdH7Yao"
      },
      "execution_count": null,
      "outputs": []
    },
    {
      "cell_type": "code",
      "source": [
        "df.isnull().sum()"
      ],
      "metadata": {
        "id": "azIQrFo27Yc1"
      },
      "execution_count": null,
      "outputs": []
    },
    {
      "cell_type": "code",
      "source": [
        "df.info()"
      ],
      "metadata": {
        "id": "UgCbO0oR7Yfe"
      },
      "execution_count": null,
      "outputs": []
    },
    {
      "cell_type": "code",
      "source": [
        "df = df.astype('string')"
      ],
      "metadata": {
        "id": "IQa03p1Q7Yhy"
      },
      "execution_count": null,
      "outputs": []
    },
    {
      "cell_type": "code",
      "source": [
        "df.info()"
      ],
      "metadata": {
        "id": "8K99aJO474I2"
      },
      "execution_count": null,
      "outputs": []
    },
    {
      "cell_type": "code",
      "source": [
        "df"
      ],
      "metadata": {
        "id": "3aoYHvxv74Lb"
      },
      "execution_count": null,
      "outputs": []
    },
    {
      "cell_type": "code",
      "source": [
        "df.duplicated().sum()"
      ],
      "metadata": {
        "id": "yVgp_Ial74OO"
      },
      "execution_count": null,
      "outputs": []
    },
    {
      "cell_type": "code",
      "source": [
        "df = df.drop_duplicates()"
      ],
      "metadata": {
        "id": "0TwP9E-v74Qw"
      },
      "execution_count": null,
      "outputs": []
    },
    {
      "cell_type": "code",
      "source": [
        "df.duplicated().sum()"
      ],
      "metadata": {
        "id": "iogJgBom74Tb"
      },
      "execution_count": null,
      "outputs": []
    },
    {
      "cell_type": "code",
      "source": [
        "df.shape"
      ],
      "metadata": {
        "id": "Szs16hSu74V-"
      },
      "execution_count": null,
      "outputs": []
    },
    {
      "cell_type": "code",
      "source": [
        "print(\"총 데이터의 크기 : \",df.shape[0] * df.shape[1])"
      ],
      "metadata": {
        "id": "agH6KgNv8Lti"
      },
      "execution_count": null,
      "outputs": []
    },
    {
      "cell_type": "code",
      "source": [
        "df[df['title'].str.contains('\\[')]"
      ],
      "metadata": {
        "id": "3slqLJev8LzO"
      },
      "execution_count": null,
      "outputs": []
    },
    {
      "cell_type": "code",
      "source": [
        "df[df['tag'].str.contains('유네스코')]"
      ],
      "metadata": {
        "id": "6u_j8r949uTc"
      },
      "execution_count": null,
      "outputs": []
    },
    {
      "cell_type": "code",
      "source": [
        "df['title'] = df['title'].str.replace('\\[한국관광 품질인증/Korea Quality]', '')"
      ],
      "metadata": {
        "id": "_PHPm7ju9uWF"
      },
      "execution_count": null,
      "outputs": []
    },
    {
      "cell_type": "code",
      "source": [
        "df['title'] = df['title'].str.replace('\\[유네스코 세계유산]', '')"
      ],
      "metadata": {
        "id": "7B59F_X1-k09"
      },
      "execution_count": null,
      "outputs": []
    },
    {
      "cell_type": "code",
      "source": [
        "df['title'] = df['title'].str.replace('\\[유네스코 세계문화유산]', '')"
      ],
      "metadata": {
        "id": "4MM9xNPr-uqk"
      },
      "execution_count": null,
      "outputs": []
    },
    {
      "cell_type": "code",
      "source": [
        "df['title'] = df['title'].str.replace('\\[한국관광품질인증/Korea Quality]', '')"
      ],
      "metadata": {
        "id": "1UwoK2-U_Mn9"
      },
      "execution_count": null,
      "outputs": []
    },
    {
      "cell_type": "code",
      "source": [
        "title_ = df[df['title'].str.contains('\\[')]['title']"
      ],
      "metadata": {
        "id": "k10JtNQT9uX-"
      },
      "execution_count": null,
      "outputs": []
    },
    {
      "cell_type": "code",
      "source": [
        "dr = df[df['img_scr'].str.contains('undefined')].index\n",
        "dr"
      ],
      "metadata": {
        "id": "O8oyHLeG_Wfy"
      },
      "execution_count": null,
      "outputs": []
    },
    {
      "cell_type": "code",
      "source": [
        "df.drop(dr, inplace=True)"
      ],
      "metadata": {
        "id": "_phNkE2E_Wid"
      },
      "execution_count": null,
      "outputs": []
    },
    {
      "cell_type": "code",
      "source": [
        "df.reset_index(drop=True, inplace=True)\n",
        "df"
      ],
      "metadata": {
        "id": "9RoAkxgAA2ts"
      },
      "execution_count": null,
      "outputs": []
    },
    {
      "cell_type": "code",
      "source": [
        "df['title'] = df['title'].str.strip()\n",
        "df['tag'] = df['tag'].str.strip()"
      ],
      "metadata": {
        "id": "Upkpl8RoBwUc"
      },
      "execution_count": null,
      "outputs": []
    },
    {
      "cell_type": "code",
      "source": [
        "df['tag'].head()"
      ],
      "metadata": {
        "id": "z2fUtzDaDRWp"
      },
      "execution_count": null,
      "outputs": []
    },
    {
      "cell_type": "code",
      "source": [
        "df.columns = df.columns.str.replace(' ', '')"
      ],
      "metadata": {
        "id": "JkkqC8Z1DRZn"
      },
      "execution_count": null,
      "outputs": []
    },
    {
      "cell_type": "code",
      "source": [
        "df_2 = df.copy()"
      ],
      "metadata": {
        "id": "-jkJtAy5EErH"
      },
      "execution_count": null,
      "outputs": []
    },
    {
      "cell_type": "code",
      "source": [
        "# df_2 = df_2.drop(labels='index', axis=1)"
      ],
      "metadata": {
        "id": "W-NzZECHaZoA"
      },
      "execution_count": null,
      "outputs": []
    },
    {
      "cell_type": "code",
      "source": [
        "df_2['tag'] = df_2['tag'].str.replace('#', ' ')"
      ],
      "metadata": {
        "id": "435XMVMXEUay"
      },
      "execution_count": null,
      "outputs": []
    },
    {
      "cell_type": "code",
      "source": [
        "df_2['tag'] = df_2['tag'].str.lstrip()"
      ],
      "metadata": {
        "id": "QY5rWbY6DRcl"
      },
      "execution_count": null,
      "outputs": []
    },
    {
      "cell_type": "code",
      "source": [
        "df_2['tag']"
      ],
      "metadata": {
        "id": "v6h-df_UDRfO"
      },
      "execution_count": null,
      "outputs": []
    },
    {
      "cell_type": "code",
      "source": [
        "df_2['title'] = df_2['title'].str.replace('\\,', '')"
      ],
      "metadata": {
        "id": "7fCZegLCbnhH"
      },
      "execution_count": null,
      "outputs": []
    },
    {
      "cell_type": "code",
      "source": [
        "df_2.drop(df.index[355],inplace=True)"
      ],
      "metadata": {
        "id": "kI2CdoGSaylL"
      },
      "execution_count": null,
      "outputs": []
    },
    {
      "cell_type": "code",
      "source": [
        "df_2.shape"
      ],
      "metadata": {
        "id": "-cnJ0V0PnhxJ"
      },
      "execution_count": null,
      "outputs": []
    },
    {
      "cell_type": "code",
      "source": [
        "df_2.to_csv('klook_2.csv', mode='w', header=False, encoding=\"UTF-8\")"
      ],
      "metadata": {
        "id": "H7c25y9Eqcgh"
      },
      "execution_count": null,
      "outputs": []
    },
    {
      "cell_type": "markdown",
      "source": [
        "## **Content Based Filtering**"
      ],
      "metadata": {
        "id": "Fb_SVoNaBNfG"
      }
    },
    {
      "cell_type": "code",
      "source": [
        "df_2['tag'].head()"
      ],
      "metadata": {
        "id": "QBqzoehqA7oz"
      },
      "execution_count": null,
      "outputs": []
    },
    {
      "cell_type": "code",
      "source": [
        "df_2['tag'].unique()"
      ],
      "metadata": {
        "id": "xECcVJ7DDQzu"
      },
      "execution_count": null,
      "outputs": []
    },
    {
      "cell_type": "code",
      "source": [
        "from sklearn.feature_extraction.text import CountVectorizer\n",
        "\n",
        "vect = CountVectorizer()\n",
        "vect_2 = CountVectorizer()"
      ],
      "metadata": {
        "id": "uCWtLF8vA7rc"
      },
      "execution_count": null,
      "outputs": []
    },
    {
      "cell_type": "code",
      "source": [
        "vect_matrix = vect.fit_transform(df_2['tag'])\n",
        "vect_matrix.shape"
      ],
      "metadata": {
        "id": "5GL_6ymHA7wu"
      },
      "execution_count": null,
      "outputs": []
    },
    {
      "cell_type": "code",
      "source": [
        "vect_matrix"
      ],
      "metadata": {
        "id": "fpKrzB5Dtprl"
      },
      "execution_count": null,
      "outputs": []
    },
    {
      "cell_type": "markdown",
      "source": [
        "# linear_kernel"
      ],
      "metadata": {
        "id": "CdJnbC856ws6"
      }
    },
    {
      "cell_type": "code",
      "source": [
        "from sklearn.metrics.pairwise import linear_kernel\n",
        "\n",
        "cosine_sim = linear_kernel(vect_matrix, vect_matrix)\n",
        "cosine_sim"
      ],
      "metadata": {
        "id": "_bbKqAdatpuJ"
      },
      "execution_count": null,
      "outputs": []
    },
    {
      "cell_type": "code",
      "source": [
        "indices = pd.Series(df_2.index, index=df_2['title'])\n",
        "indices"
      ],
      "metadata": {
        "id": "cLq7V1Qztpwv"
      },
      "execution_count": null,
      "outputs": []
    },
    {
      "cell_type": "code",
      "source": [
        "indices_2 = pd.Series(df_2.index, index=df_2['title'])\n",
        "indices_2['제 8회 이천인삼축제']"
      ],
      "metadata": {
        "id": "7aKhn-CnylPJ"
      },
      "execution_count": null,
      "outputs": []
    },
    {
      "cell_type": "code",
      "source": [
        "df_2.iloc[[6]]"
      ],
      "metadata": {
        "id": "_-m5wS-ltpzS"
      },
      "execution_count": null,
      "outputs": []
    },
    {
      "cell_type": "code",
      "source": [
        "# \n",
        "def get_recommendations(title, cosine_sim = cosine_sim):\n",
        "  idx = indices_2[title]\n",
        "  sim_scores = list(enumerate(cosine_sim[idx]))\n",
        "  sim_scores = sorted(sim_scores, key=lambda x:x[1], reverse=True)\n",
        "  sim_scores[1:30]\n",
        "  travel_indices = [i[0] for i in sim_scores[1:30]]\n",
        "  return df_2['title'].iloc[travel_indices]"
      ],
      "metadata": {
        "id": "FIASbhkRxi3S"
      },
      "execution_count": null,
      "outputs": []
    },
    {
      "cell_type": "code",
      "source": [
        "get_recommendations('2022 서울드럼페스티벌')"
      ],
      "metadata": {
        "id": "uxLcBtXt4C6d"
      },
      "execution_count": null,
      "outputs": []
    },
    {
      "cell_type": "code",
      "source": [
        "test_idx = indices_2['2022 서울드럼페스티벌']\n",
        "test_idx"
      ],
      "metadata": {
        "id": "PNGg6b8ixi6V"
      },
      "execution_count": null,
      "outputs": []
    },
    {
      "cell_type": "code",
      "source": [
        "cosine_sim[2]"
      ],
      "metadata": {
        "id": "vArMgJslxi8-"
      },
      "execution_count": null,
      "outputs": []
    },
    {
      "cell_type": "code",
      "source": [
        "test_sim_scores = list(enumerate(cosine_sim[2]))"
      ],
      "metadata": {
        "id": "jLO7u2ISxi-4"
      },
      "execution_count": null,
      "outputs": []
    },
    {
      "cell_type": "code",
      "source": [
        "test_sim_scores = sorted(test_sim_scores, key=lambda x:x[1], reverse=True)\n",
        "test_sim_scores[1:20]"
      ],
      "metadata": {
        "id": "zXjmPd_9tp1_"
      },
      "execution_count": null,
      "outputs": []
    },
    {
      "cell_type": "code",
      "source": [
        "travel_indices = [i[0] for i in test_sim_scores[1:30]]\n",
        "travel_indices"
      ],
      "metadata": {
        "id": "NeebZsdOtp35"
      },
      "execution_count": null,
      "outputs": []
    },
    {
      "cell_type": "code",
      "source": [
        "df_2['title'].iloc[travel_indices]"
      ],
      "metadata": {
        "id": "SCkii-LM30tk"
      },
      "execution_count": null,
      "outputs": []
    },
    {
      "cell_type": "code",
      "source": [
        "get_recommendations('2022 서울드럼페스티벌')"
      ],
      "metadata": {
        "id": "GoM_ZPsN4Tr0"
      },
      "execution_count": null,
      "outputs": []
    },
    {
      "cell_type": "code",
      "source": [
        "# travels = df_2[['id', 'title']].copy()\n",
        "df_2"
      ],
      "metadata": {
        "id": "ExSoyaLZ4Tuy"
      },
      "execution_count": null,
      "outputs": []
    },
    {
      "cell_type": "markdown",
      "source": [
        "# cosine_similarity"
      ],
      "metadata": {
        "id": "JxdvW26061ZR"
      }
    },
    {
      "cell_type": "code",
      "source": [
        "count_matrix_2 = vect_2.fit_transform(df_2['tag'])\n",
        "count_matrix_2"
      ],
      "metadata": {
        "id": "r3NCUn1v4Txw"
      },
      "execution_count": null,
      "outputs": []
    },
    {
      "cell_type": "code",
      "source": [
        "from sklearn.metrics.pairwise import cosine_similarity\n",
        "\n",
        "cosine_sim2 = cosine_similarity(count_matrix_2, count_matrix_2)"
      ],
      "metadata": {
        "id": "KYCBqU4r4T0E"
      },
      "execution_count": null,
      "outputs": []
    },
    {
      "cell_type": "code",
      "source": [
        "cosine_sim2"
      ],
      "metadata": {
        "id": "O0JZv9sX4T2r"
      },
      "execution_count": null,
      "outputs": []
    },
    {
      "cell_type": "code",
      "source": [
        "indices['서울대공원']"
      ],
      "metadata": {
        "id": "OPOjDstl7Tfp"
      },
      "execution_count": null,
      "outputs": []
    },
    {
      "cell_type": "code",
      "source": [
        "df_2 = df_2.reset_index()\n",
        "indices = pd.Series(df_2.index, index=df_2['title'])\n",
        "indices"
      ],
      "metadata": {
        "id": "xbhI3S_87Tir"
      },
      "execution_count": null,
      "outputs": []
    },
    {
      "cell_type": "code",
      "source": [
        "get_recommendations('롯데월드')"
      ],
      "metadata": {
        "id": "32o2AnZd7TlV"
      },
      "execution_count": null,
      "outputs": []
    },
    {
      "cell_type": "code",
      "source": [
        "get_recommendations('롯데월드', cosine_sim2)"
      ],
      "metadata": {
        "id": "gFtaqYtN83gn"
      },
      "execution_count": null,
      "outputs": []
    },
    {
      "cell_type": "code",
      "source": [
        "indices['롯데월드']"
      ],
      "metadata": {
        "id": "Knp0vGaa7Tn6"
      },
      "execution_count": null,
      "outputs": []
    },
    {
      "cell_type": "code",
      "source": [
        "df_2.loc[3529]"
      ],
      "metadata": {
        "id": "rt0mH8_c7Tqi"
      },
      "execution_count": null,
      "outputs": []
    },
    {
      "cell_type": "code",
      "source": [
        "df_2.loc[30]"
      ],
      "metadata": {
        "id": "sxHHpCOb7TtA"
      },
      "execution_count": null,
      "outputs": []
    },
    {
      "cell_type": "code",
      "source": [],
      "metadata": {
        "id": "sG28NW3W7Tvi"
      },
      "execution_count": null,
      "outputs": []
    }
  ]
}